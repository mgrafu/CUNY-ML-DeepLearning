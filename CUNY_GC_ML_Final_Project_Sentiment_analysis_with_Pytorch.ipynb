{
  "nbformat": 4,
  "nbformat_minor": 0,
  "metadata": {
    "colab": {
      "name": "CUNY GC - ML Final Project - Sentiment analysis with Pytorch",
      "provenance": [],
      "collapsed_sections": [],
      "machine_shape": "hm",
      "include_colab_link": true
    },
    "kernelspec": {
      "name": "python3",
      "display_name": "Python 3"
    },
    "language_info": {
      "name": "python"
    },
    "accelerator": "GPU"
  },
  "cells": [
    {
      "cell_type": "markdown",
      "metadata": {
        "id": "view-in-github",
        "colab_type": "text"
      },
      "source": [
        "<a href=\"https://colab.research.google.com/github/mgrafu/CUNY-ML-DeepLearning/blob/main/CUNY_GC_ML_Final_Project_Sentiment_analysis_with_Pytorch.ipynb\" target=\"_parent\"><img src=\"https://colab.research.google.com/assets/colab-badge.svg\" alt=\"Open In Colab\"/></a>"
      ]
    },
    {
      "cell_type": "code",
      "source": [
        "!pip install --upgrade matplotlib"
      ],
      "metadata": {
        "id": "8TYack72-us0"
      },
      "execution_count": null,
      "outputs": []
    },
    {
      "cell_type": "code",
      "source": [
        "import random\n",
        "import string \n",
        "import time\n",
        "\n",
        "import matplotlib.pyplot as plt\n",
        "import numpy as np\n",
        "import torch\n",
        "import torch.nn as nn\n",
        "import torch.nn.functional as F\n",
        "import torch.optim as optim\n",
        "\n",
        "from torchtext.legacy import data, datasets"
      ],
      "metadata": {
        "id": "A8oFgqY5WeDi"
      },
      "execution_count": null,
      "outputs": []
    },
    {
      "cell_type": "markdown",
      "source": [
        "# **Complementary Functions**"
      ],
      "metadata": {
        "id": "BCnV5UUhaQIN"
      }
    },
    {
      "cell_type": "code",
      "source": [
        "# Check how many parameters to train are in a model.\n",
        "def count_parameters(model):\n",
        "    return sum(p.numel() for p in model.parameters() if p.requires_grad)"
      ],
      "metadata": {
        "id": "1Ow1xi6Sb5Rr"
      },
      "execution_count": null,
      "outputs": []
    },
    {
      "cell_type": "code",
      "source": [
        "# Compute accuracy per batch.\n",
        "def binary_accuracy(preds, y):\n",
        "    # Round predictions to the closest integer.\n",
        "    rounded_preds = torch.round(torch.sigmoid(preds))\n",
        "    correct = (rounded_preds == y).float()\n",
        "    return correct.sum() / len(correct)"
      ],
      "metadata": {
        "id": "pbVV8UdGdwnY"
      },
      "execution_count": null,
      "outputs": []
    },
    {
      "cell_type": "code",
      "source": [
        "# Calculate the duration of a process.\n",
        "def epoch_time(start_time, end_time):\n",
        "    elapsed_time = end_time - start_time\n",
        "    elapsed_mins = int(elapsed_time  / 60)\n",
        "    elapsed_secs = int(elapsed_time -  (elapsed_mins * 60))\n",
        "    return  elapsed_mins, elapsed_secs"
      ],
      "metadata": {
        "id": "wHhfCTL_eiYU"
      },
      "execution_count": null,
      "outputs": []
    },
    {
      "cell_type": "markdown",
      "source": [
        "# **Load Data**"
      ],
      "metadata": {
        "id": "_oVPnn7bGN7w"
      }
    },
    {
      "cell_type": "code",
      "source": [
        "BATCH_SIZE = 64\n",
        "MAX_VOCAB_SIZE = 25_000\n",
        "SEED = 42\n",
        "\n",
        "start_time = time.time()\n",
        "\n",
        "torch.manual_seed(SEED)\n",
        "torch.backends.cudnn.deterministic = True\n",
        "\n",
        "# Define the fields.\n",
        "TEXT = data.Field(tokenize='spacy',\n",
        "                  tokenizer_language='en_core_web_sm',\n",
        "                  include_lengths=True)\n",
        "LABEL = data.LabelField(dtype=torch.float)\n",
        "\n",
        "print(\"Loading data from server...\")\n",
        "train_data, test_data = datasets.IMDB.splits(TEXT, LABEL)\n",
        "train_data, valid_data = train_data.split(random_state=random.seed(SEED))\n",
        "print(train_data[0].__dict__.keys())\n",
        "\n",
        "# Build the vocabulary with GloVe.\n",
        "TEXT.build_vocab(train_data, \n",
        "                 max_size = MAX_VOCAB_SIZE, \n",
        "                 vectors = \"glove.6B.100d\", \n",
        "                 unk_init = torch.Tensor.normal_)\n",
        "LABEL.build_vocab(train_data)\n",
        "print(\"Vocabulary built successfully.\")\n",
        "\n",
        "# Determine whether to use CUDA or not.\n",
        "device = torch.device('cuda' if torch.cuda.is_available() else 'cpu')\n",
        "\n",
        "# Create iterator for the dataset.\n",
        "train_iter, valid_iter, test_iter = data.BucketIterator.splits(\n",
        "    (train_data, valid_data, test_data), batch_size=BATCH_SIZE,\n",
        "    sort_within_batch=True, device=device)\n",
        "print(\"Iterators built successfully.\")\n",
        "\n",
        "mins, secs = epoch_time(start_time, time.time())\n",
        "print(f\"Loading Time: {mins}m {secs}s\")"
      ],
      "metadata": {
        "id": "6BDnsO4dC_UO"
      },
      "execution_count": null,
      "outputs": []
    },
    {
      "cell_type": "markdown",
      "source": [
        "# **LSTM Architecture**"
      ],
      "metadata": {
        "id": "MYKV4MpIa7TV"
      }
    },
    {
      "cell_type": "code",
      "source": [
        "class LSTM(nn.Module):\n",
        "    def __init__(self, vocab_size, embedding_dim, hidden_dim, output_dim,\n",
        "                 n_layers, bidirectional, dropout, pad_idx):\n",
        "        super().__init__()\n",
        "\n",
        "        # Define layers in the model.        \n",
        "        self.embedding = nn.Embedding(vocab_size, embedding_dim,\n",
        "                                      padding_idx=pad_idx)\n",
        "        \n",
        "        self.LSTM = nn.LSTM(embedding_dim, \n",
        "                           hidden_dim, \n",
        "                           num_layers=n_layers, \n",
        "                           bidirectional=bidirectional, \n",
        "                           dropout=dropout)\n",
        "        \n",
        "        self.fc = nn.Linear(hidden_dim * 2, output_dim)\n",
        "        \n",
        "        self.dropout = nn.Dropout(dropout)\n",
        "        \n",
        "    def forward(self, text, text_lengths):\n",
        "        # Compute embeddings.\n",
        "        # text format: [len(sent), batch_size]\n",
        "        # embedded format: [len(sent), batch_size, embedding_dim]\n",
        "        embedded = self.dropout(self.embedding(text))\n",
        "        \n",
        "        # Pack sequence.\n",
        "        packed_embedded = nn.utils.rnn.pack_padded_sequence(embedded,\n",
        "                                                            text_lengths.to(\"cpu\"),\n",
        "                                                            enforce_sorted=False)\n",
        "        # Run through LSTM.\n",
        "        packed_output, (hidden, cell) = self.LSTM(packed_embedded)\n",
        "        \n",
        "        # Unpack sequence.\n",
        "        # Output over padding tokens are zero tensors.\n",
        "        # output format: [len(sent), batch_size, hidden_dim * n_directions]\n",
        "        # hidden format: [n_layers * n_directions, batch_size, hidden_dim]\n",
        "        # cell format: [n_layers * n_directions, batch_size, hidden_dim]\n",
        "        output, output_lengths = nn.utils.rnn.pad_packed_sequence(packed_output)\n",
        "        \n",
        "        # Apply dropout and concat the last forward and backward hidden layers.\n",
        "        # hidden format: [batch_size, hidden_dim * n_directions]\n",
        "        hidden = self.dropout(torch.cat((hidden[-2,:,:], hidden[-1,:,:]), dim=1))\n",
        "    \n",
        "        return self.fc(hidden)"
      ],
      "metadata": {
        "id": "3iFaX2LuZ_nm"
      },
      "execution_count": null,
      "outputs": []
    },
    {
      "cell_type": "code",
      "source": [
        "def train_LSTM(model, iterator, optimizer, criterion):\n",
        "    \n",
        "    epoch_loss = 0\n",
        "    epoch_acc = 0\n",
        "    model.train()\n",
        "    for i, batch in enumerate(iterator):\n",
        "        optimizer.zero_grad()\n",
        "        \n",
        "        text, text_lengths = batch.text\n",
        "        predictions = model(text, text_lengths).squeeze(1)\n",
        "        \n",
        "        loss = criterion(predictions, batch.label.float())\n",
        "        acc = binary_accuracy(predictions, batch.label)\n",
        "        \n",
        "        loss.backward()        \n",
        "        optimizer.step()\n",
        "        \n",
        "        epoch_loss += loss.item()\n",
        "        epoch_acc += acc.item()\n",
        "        batch_size = len(iterator)\n",
        "\n",
        "        if i % 50 == 0:\n",
        "            print(f\"[{i:03}/{len(iterator)}]:\", end=\" \")\n",
        "            print(f\"epoch_acc: {epoch_acc / batch_size:.2f}\")\n",
        "    return epoch_loss / batch_size, epoch_acc / batch_size"
      ],
      "metadata": {
        "id": "6NzDfEXBd_dq"
      },
      "execution_count": null,
      "outputs": []
    },
    {
      "cell_type": "code",
      "source": [
        "def evaluate_LSTM(model, iterator, criterion):\n",
        "    \n",
        "    epoch_loss = 0\n",
        "    epoch_acc = 0\n",
        "    model.eval()\n",
        "    with torch.no_grad():\n",
        "        for batch in iterator:\n",
        "            text, text_lengths = batch.text\n",
        "            predictions = model(text, text_lengths).squeeze(1)\n",
        "\n",
        "            loss = criterion(predictions, batch.label.float())\n",
        "            acc = binary_accuracy(predictions, batch.label)\n",
        "        \n",
        "            epoch_loss += loss.item()\n",
        "            epoch_acc += acc.item()\n",
        "            batch_size = len(iterator)\n",
        "\n",
        "    return epoch_loss / batch_size, epoch_acc / batch_size"
      ],
      "metadata": {
        "id": "-Bkrv-u1fmIA"
      },
      "execution_count": null,
      "outputs": []
    },
    {
      "cell_type": "code",
      "source": [
        "def train_eval_LSTM(n_layers=1, dropout=0, num_epochs=2):\n",
        "    # Set variable model hyperparameters:\n",
        "    N_LAYERS = n_layers\n",
        "    DROPOUT = dropout\n",
        "\n",
        "    # Set fixed model hyperparameters.\n",
        "    INPUT_DIM = len(TEXT.vocab)\n",
        "    EMBEDDING_DIM = 100\n",
        "    HIDDEN_DIM = 256\n",
        "    OUTPUT_DIM = 1\n",
        "    BIDIRECTIONAL = True\n",
        "    PAD_IDX = TEXT.vocab.stoi[TEXT.pad_token]\n",
        "    \n",
        "    # Instantiate model.\n",
        "    model = LSTM(INPUT_DIM, EMBEDDING_DIM, HIDDEN_DIM, OUTPUT_DIM, \n",
        "                 N_LAYERS, BIDIRECTIONAL, DROPOUT, PAD_IDX)\n",
        "    print(f'The model has {count_parameters(model):,} trainable parameters')\n",
        "\n",
        "    # Define the optimizer and loss function.\n",
        "    optimizer = optim.Adam(model.parameters(), lr=1e-3)\n",
        "    criterion = nn.BCEWithLogitsLoss()\n",
        "\n",
        "    # Pass the model and loss function to GPU.\n",
        "    model = model.to(device)\n",
        "    criterion = criterion.to(device)\n",
        "\n",
        "    # Store accuracies per epoch.\n",
        "    all_train_acc = []\n",
        "    all_valid_acc = []\n",
        "\n",
        "    # Train the model.\n",
        "    best_valid_loss = float('inf')\n",
        "    for epoch in range(num_epochs):\n",
        "        st = time.time()\n",
        "        train_loss, train_acc = train_LSTM(model, train_iter, optimizer, criterion)\n",
        "        valid_loss, valid_acc = evaluate_LSTM(model, valid_iter, criterion)    \n",
        "        epoch_mins, epoch_secs = epoch_time(st, time.time())\n",
        "        \n",
        "        # Append to lists of accuracies.\n",
        "        all_train_acc.append(train_acc)\n",
        "        all_valid_acc.append(valid_acc)        \n",
        "\n",
        "        if valid_loss < best_valid_loss:\n",
        "            best_valid_loss = valid_loss\n",
        "            torch.save(model.state_dict(), 'LSTM-model.pt')\n",
        "            \n",
        "        print(f'Epoch:  {epoch+1:03} | Epoch Time: {epoch_mins}m {epoch_secs}s')\n",
        "        print(f'\\tTrain Loss: {train_loss:.3f} | Train Acc: {train_acc*100:.2f}%')\n",
        "        print(f'\\tValid Loss: {valid_loss:.3f} | Valid Acc: {valid_acc*100:.2f}%')\n",
        "\n",
        "    # Evaluate on test set.\n",
        "    model.load_state_dict(torch.load('LSTM-model.pt'))\n",
        "    test_loss, test_acc = evaluate_LSTM(model, test_iter, criterion)\n",
        "    print(f'Test Loss: {test_loss:.3f} | Test Acc: {test_acc*100:.2f}%')\n",
        "    print()\n",
        "\n",
        "    return all_train_acc, all_valid_acc, test_acc"
      ],
      "metadata": {
        "id": "B_bxoB0_e_09"
      },
      "execution_count": null,
      "outputs": []
    },
    {
      "cell_type": "markdown",
      "source": [
        "# **CNN Architecture**"
      ],
      "metadata": {
        "id": "TB3--oRMb_xR"
      }
    },
    {
      "cell_type": "code",
      "source": [
        "class CNN(nn.Module):\n",
        "    def __init__(self, vocab_size, embedding_dim, n_filters, filter_sizes, \n",
        "                 output_dim, dropout, pad_idx):\n",
        "        super(CNN, self).__init__()\n",
        "        \n",
        "        # Define layers in the model.        \n",
        "        self.embedding = nn.Embedding(vocab_size, embedding_dim, \n",
        "                                      padding_idx=pad_idx)\n",
        "        \n",
        "        self.convs = nn.ModuleList([nn.Conv2d(in_channels=1, \n",
        "                                              out_channels=n_filters, \n",
        "                                              kernel_size=(fs, embedding_dim)) \n",
        "                                    for fs in filter_sizes])\n",
        "        \n",
        "        self.fc = nn.Linear(len(filter_sizes) * n_filters, output_dim)\n",
        "        \n",
        "        self.dropout = nn.Dropout(dropout)\n",
        "        \n",
        "    def forward(self, text):\n",
        "        # Permute text format.\n",
        "        #      from: [len(sent), batch_size] \n",
        "        #      to: [batch_size, len(sent)]\n",
        "        text = text.permute(1, 0)\n",
        "\n",
        "        # Compute embeddings.\n",
        "        # embedded format: [batch_size, len(sent), embedding_dim]\n",
        "        embedded = self.embedding(text)\n",
        "        # embedded format: [batch_size, 1, len(sent), embedding_dim]\n",
        "        embedded = embedded.unsqueeze(1)\n",
        "        \n",
        "        # Perform convolution.\n",
        "        # conved_n format: [batch_size, n_filters, len(sent) - filter_sizes[n] + 1]\n",
        "        conved = [F.relu(conv(embedded)).squeeze(3) for conv in self.convs]  \n",
        "        \n",
        "        # Apply max pooling.\n",
        "        # pooled format: [len(filter_sizes), batch_size, n_filters]\n",
        "        pooled = [F.max_pool1d(conv, conv.shape[2]).squeeze(2) for conv in conved]\n",
        "        \n",
        "        # Concatenate results from all filter sizes.\n",
        "        # cat format: [batch_size, n_filters * len(filter_sizes)]\n",
        "        cat = self.dropout(torch.cat(pooled, dim=1))\n",
        "            \n",
        "        return self.fc(cat)"
      ],
      "metadata": {
        "id": "IIlj_p-acGR6"
      },
      "execution_count": null,
      "outputs": []
    },
    {
      "cell_type": "code",
      "source": [
        "def train_CNN(model, iterator, optimizer, criterion):\n",
        "    \n",
        "    epoch_loss = 0\n",
        "    epoch_acc = 0\n",
        "    model.train()\n",
        "    for i, batch in enumerate(iterator):\n",
        "        optimizer.zero_grad()\n",
        "        text, text_lengths = batch.text\n",
        "        predictions = model(text).squeeze(1)\n",
        "        \n",
        "        loss = criterion(predictions, batch.label.float())\n",
        "        acc = binary_accuracy(predictions, batch.label)\n",
        "        \n",
        "        loss.backward()\n",
        "        optimizer.step()\n",
        "        \n",
        "        epoch_loss += loss.item()\n",
        "        epoch_acc += acc.item()\n",
        "        batch_size = len(iterator)\n",
        "\n",
        "        if i % 50 == 0:\n",
        "            print(f\"[{i:03}/{len(iterator)}]:\", end=\" \")\n",
        "            print(f\"epoch_acc: {epoch_acc / batch_size:.2f}\")\n",
        "    return epoch_loss / batch_size, epoch_acc / batch_size"
      ],
      "metadata": {
        "id": "siCSOJ_DufCq"
      },
      "execution_count": null,
      "outputs": []
    },
    {
      "cell_type": "code",
      "source": [
        "def evaluate_CNN(model, iterator, criterion):\n",
        "    \n",
        "    epoch_loss = 0\n",
        "    epoch_acc = 0\n",
        "    model.eval()\n",
        "    with torch.no_grad():\n",
        "        for batch in iterator:\n",
        "            text, text_lengths = batch.text\n",
        "            predictions = model(text).squeeze(1)\n",
        "\n",
        "            loss = criterion(predictions, batch.label.float())\n",
        "            acc = binary_accuracy(predictions, batch.label)\n",
        "\n",
        "            epoch_loss += loss.item()\n",
        "            epoch_acc += acc.item()\n",
        "            batch_size = len(iterator)\n",
        "        \n",
        "    return epoch_loss / batch_size, epoch_acc / batch_size"
      ],
      "metadata": {
        "id": "NsPgn4OCwp4W"
      },
      "execution_count": null,
      "outputs": []
    },
    {
      "cell_type": "code",
      "source": [
        "def train_eval_CNN(filter_sizes=[3, 4, 5], dropout=0.5, num_epochs=2):\n",
        "    # Set variable model hyperparameters:\n",
        "    FILTER_SIZES = filter_sizes\n",
        "    DROPOUT = dropout\n",
        "\n",
        "    # Set fixed model hyperparameters.\n",
        "    INPUT_DIM = len(TEXT.vocab)\n",
        "    EMBEDDING_DIM = 100\n",
        "    N_FILTERS = 100\n",
        "    OUTPUT_DIM = 1\n",
        "    PAD_IDX = TEXT.vocab.stoi[TEXT.pad_token]\n",
        "\n",
        "    # Instantiate model.\n",
        "    model = CNN(INPUT_DIM, EMBEDDING_DIM, N_FILTERS, FILTER_SIZES, \n",
        "                OUTPUT_DIM, DROPOUT, PAD_IDX)\n",
        "    print(f'The model has {count_parameters(model):,} trainable parameters')\n",
        "\n",
        "    # Define the optimizer and loss function.\n",
        "    optimizer = optim.Adam(model.parameters(), lr=1e-3)\n",
        "    criterion = nn.BCEWithLogitsLoss()\n",
        "\n",
        "    # Pass the model and loss function to GPU.\n",
        "    model = model.to(device)\n",
        "    criterion = criterion.to(device)\n",
        "\n",
        "    # Store accuracies per epoch.\n",
        "    all_train_acc = []\n",
        "    all_valid_acc = []\n",
        "\n",
        "    # Train the model.\n",
        "    best_valid_loss = float('inf')\n",
        "    for epoch in range(num_epochs):\n",
        "        start_time = time.time()\n",
        "        train_loss, train_acc = train_CNN(model, train_iter, optimizer, criterion)\n",
        "        valid_loss, valid_acc = evaluate_CNN(model, valid_iter, criterion)\n",
        "        epoch_mins, epoch_secs = epoch_time(start_time, time.time())\n",
        "\n",
        "        # Append to lists of accuracies.\n",
        "        all_train_acc.append(train_acc)\n",
        "        all_valid_acc.append(valid_acc)        \n",
        "\n",
        "        if valid_loss < best_valid_loss:\n",
        "            best_valid_loss = valid_loss\n",
        "            torch.save(model.state_dict(), 'CNN-model.pt')\n",
        "        \n",
        "        print(f'Epoch: {epoch+1:02} | Epoch Time: {epoch_mins}m {epoch_secs}s')\n",
        "        print(f'\\tTrain Loss: {train_loss:.3f} | Train Acc: {train_acc*100:.2f}%')\n",
        "        print(f'\\t Val. Loss: {valid_loss:.3f} |  Val. Acc: {valid_acc*100:.2f}%')\n",
        "\n",
        "    # Evaluate on test set.\n",
        "    model.load_state_dict(torch.load('CNN-model.pt'))\n",
        "    test_loss, test_acc = evaluate_CNN(model, test_iter, criterion)\n",
        "    print(f'Test Loss: {test_loss:.3f} | Test Acc: {test_acc*100:.2f}%')\n",
        "    print()\n",
        "\n",
        "    return all_train_acc, all_valid_acc, test_acc"
      ],
      "metadata": {
        "id": "LySXX-WwxX6c"
      },
      "execution_count": null,
      "outputs": []
    },
    {
      "cell_type": "markdown",
      "source": [
        "# **Combined Model Architecture**"
      ],
      "metadata": {
        "id": "7lkC2hRdy1iC"
      }
    },
    {
      "cell_type": "code",
      "source": [
        "class CNN_LSTM(nn.Module):\n",
        "    def __init__(self, vocab_size, embedding_dim, n_filters, filter_sizes, \n",
        "                 dropout, pad_idx, hidden_dim, output_dim, n_layers, bidirectional):\n",
        "        \n",
        "        super().__init__()\n",
        "        # Define layers in the model.\n",
        "        self.embedding = nn.Embedding(vocab_size, embedding_dim, \n",
        "                                      padding_idx=pad_idx)\n",
        "        \n",
        "        self.convs = nn.ModuleList([nn.Conv2d(in_channels = 1, \n",
        "                                              out_channels = n_filters, \n",
        "                                              kernel_size = (fs, embedding_dim)) \n",
        "                                    for fs in filter_sizes])\n",
        "        \n",
        "        self.LSTM = nn.LSTM(n_filters, hidden_dim, num_layers=n_layers, \n",
        "                            bidirectional=bidirectional, dropout=dropout)\n",
        "        \n",
        "        self.fc = nn.Linear(hidden_dim * 2, output_dim)\n",
        "                \n",
        "        self.dropout = nn.Dropout(dropout)\n",
        "\n",
        "    def forward(self, text, text_lengths):\n",
        "        # Permute text format.\n",
        "        #      from: [len(sent), batch_size] \n",
        "        #      to: [batch_size, len(sent)]\n",
        "        text = text.permute(1, 0)\n",
        "\n",
        "        # Compute embeddings.\n",
        "        # embedded format: [batch_size, len(sent), embedding_dim]\n",
        "        embedded = self.embedding(text)\n",
        "        # embedded format: [batch_size, 1, len(sent), embedding_dim]\n",
        "        embedded = embedded.unsqueeze(1)\n",
        "\n",
        "        # Perform convolution.\n",
        "        # conved_n format: [batch_size, n_filters, len(sent) - filter_sizes[n] + 1]\n",
        "        conved = [F.relu(conv(embedded)).squeeze(3) for conv in self.convs]  \n",
        "\n",
        "        # Apply max pooling.\n",
        "        # pooled format: [len(filter_sizes), batch_size, n_filters]\n",
        "        pooled = [F.max_pool1d(conv, conv.shape[2]).squeeze(2) for conv in conved]\n",
        "\n",
        "        # Stack the output matrices of all filter sizes.\n",
        "        # stacked format: [len(filter_sizes), batch_size, n_filters]\n",
        "        stacked = self.dropout(torch.stack(pooled))\n",
        "\n",
        "        # Run stacked matrix through LSTM.\n",
        "        # output format: [len(filter_sizes), batch_size, hidden_dim * n_directions]\n",
        "        # hidden format: [n_layers * n_directions, batch_size, hidden_dim]\n",
        "        # cell format: [n_layers * n_directions, batch_size, hidden_dim]\n",
        "        output, (hidden, cell) = self.LSTM(stacked)\n",
        "        \n",
        "        # Apply dropout and concat the last forward and backward hidden layers.\n",
        "        # hidden format: [batch_size, hidden_dim * n_directions]\n",
        "        hidden = self.dropout(torch.cat((hidden[-2,:,:], hidden[-1,:,:]), dim = 1))\n",
        "            \n",
        "        return self.fc(hidden)"
      ],
      "metadata": {
        "id": "eQlC6_CkdmWQ"
      },
      "execution_count": null,
      "outputs": []
    },
    {
      "cell_type": "code",
      "source": [
        "def train_CNN_LSTM(model, iterator, optimizer, criterion):\n",
        "    \n",
        "    epoch_loss = 0\n",
        "    epoch_acc = 0\n",
        "    model.train()\n",
        "    for i, batch in enumerate(iterator):\n",
        "        optimizer.zero_grad()\n",
        "        text, text_lengths = batch.text\n",
        "        predictions = model(text, text_lengths).squeeze(1)\n",
        "        \n",
        "        loss = criterion(predictions, batch.label)\n",
        "        acc = binary_accuracy(predictions, batch.label)\n",
        "        \n",
        "        loss.backward()\n",
        "        optimizer.step()\n",
        "        \n",
        "        epoch_loss += loss.item()\n",
        "        epoch_acc += acc.item()\n",
        "        batch_size = len(iterator)\n",
        "\n",
        "        if i % 50 == 0:\n",
        "            print(f\"[{i:03}/{len(iterator)}]:\", end=\" \")\n",
        "            print(f\"epoch_acc: {epoch_acc / batch_size:.2f}\")\n",
        "    return epoch_loss / batch_size, epoch_acc / batch_size"
      ],
      "metadata": {
        "id": "qvdy9IuG4hPX"
      },
      "execution_count": null,
      "outputs": []
    },
    {
      "cell_type": "code",
      "source": [
        "def evaluate_CNN_LSTM(model, iterator, criterion):\n",
        "    \n",
        "    epoch_loss = 0\n",
        "    epoch_acc = 0\n",
        "    model.eval()\n",
        "    with torch.no_grad():\n",
        "        for batch in iterator:\n",
        "            text, text_lengths = batch.text\n",
        "            predictions = model(text, text_lengths).squeeze(1)\n",
        "  \n",
        "            loss = criterion(predictions, batch.label)\n",
        "            acc = binary_accuracy(predictions, batch.label)\n",
        "\n",
        "            epoch_loss += loss.item()\n",
        "            epoch_acc += acc.item()\n",
        "            batch_size = len(iterator)\n",
        "        \n",
        "    return epoch_loss / batch_size, epoch_acc / batch_size"
      ],
      "metadata": {
        "id": "UQRXMjB95MJQ"
      },
      "execution_count": null,
      "outputs": []
    },
    {
      "cell_type": "code",
      "source": [
        "def train_eval_CNN_LSTM(n_layers=2, dropout=0.5, \n",
        "                        filter_sizes=[3,4,5], num_epochs=2):\n",
        "    # Set variable model hyperparameters:\n",
        "    N_LAYERS = n_layers\n",
        "    DROPOUT = dropout\n",
        "    FILTER_SIZES = filter_sizes\n",
        "\n",
        "    # Set fixed model hyperparameters.\n",
        "    INPUT_DIM = len(TEXT.vocab)\n",
        "    EMBEDDING_DIM = 100\n",
        "    N_FILTERS = 100\n",
        "    BIDIRECTIONAL = True\n",
        "    HIDDEN_DIM = 256\n",
        "    OUTPUT_DIM = 1\n",
        "    PAD_IDX = TEXT.vocab.stoi[TEXT.pad_token]\n",
        "\n",
        "    # Instantiate model.\n",
        "    model = CNN_LSTM(INPUT_DIM, EMBEDDING_DIM, N_FILTERS,FILTER_SIZES, DROPOUT, \n",
        "                     PAD_IDX, HIDDEN_DIM, OUTPUT_DIM, N_LAYERS, BIDIRECTIONAL)\n",
        "    print(f'The model has {count_parameters(model):,} trainable parameters')\n",
        "\n",
        "    # Define the optimizer and loss function.\n",
        "    optimizer = optim.Adam(model.parameters(), lr=1e-3)\n",
        "    criterion = nn.BCEWithLogitsLoss()\n",
        "\n",
        "    # Pass the model and loss function to GPU.\n",
        "    model = model.to(device)\n",
        "    criterion = criterion.to(device)\n",
        "\n",
        "    # Store accuracies per epoch.\n",
        "    all_train_acc = []\n",
        "    all_valid_acc = []\n",
        "\n",
        "    # Train the model.\n",
        "    best_valid_loss = float('inf')\n",
        "    for epoch in range(num_epochs):\n",
        "        start_time = time.time()\n",
        "        train_loss, train_acc = train_CNN_LSTM(model, train_iter, optimizer, criterion)\n",
        "        valid_loss, valid_acc = evaluate_CNN_LSTM(model, valid_iter, criterion)\n",
        "        epoch_mins, epoch_secs = epoch_time(start_time, time.time())\n",
        "        \n",
        "        # Append to lists of accuracies.\n",
        "        all_train_acc.append(train_acc)\n",
        "        all_valid_acc.append(valid_acc)        \n",
        "\n",
        "        if valid_loss < best_valid_loss:\n",
        "            best_valid_loss = valid_loss\n",
        "            torch.save(model.state_dict(), 'CNN-LSTM-model.pt')\n",
        "        \n",
        "        print(f'Epoch: {epoch+1:02} | Epoch Time: {epoch_mins}m {epoch_secs}s')\n",
        "        print(f'\\tTrain Loss: {train_loss:.3f} | Train Acc: {train_acc*100:.2f}%')\n",
        "        print(f'\\t Val. Loss: {valid_loss:.3f} |  Val. Acc: {valid_acc*100:.2f}%')\n",
        "\n",
        "    # Evaluate on test set.\n",
        "    model.load_state_dict(torch.load('CNN-LSTM-model.pt'))\n",
        "    test_loss, test_acc = evaluate_CNN_LSTM(model, test_iter, criterion)\n",
        "    print(f'Test Loss: {test_loss:.3f} | Test Acc: {test_acc*100:.2f}%')\n",
        "    print()\n",
        "\n",
        "    return all_train_acc, all_valid_acc, test_acc"
      ],
      "metadata": {
        "id": "MkFWlYcL6cca"
      },
      "execution_count": null,
      "outputs": []
    },
    {
      "cell_type": "markdown",
      "source": [
        "# **Hyperparameter Tuning**"
      ],
      "metadata": {
        "id": "vcYCC8TlTsIq"
      }
    },
    {
      "cell_type": "code",
      "source": [
        "# TUNE HYPERPARAMETERS FOR LSTM\n",
        "\n",
        "N_EPOCHS = 15\n",
        "\n",
        "start_time = time.time()\n",
        "\n",
        "# Define hyperparameter ranges to test.\n",
        "all_num_layers = [1, 2, 3, 4]\n",
        "all_dropouts = [0, 0.1, 0.2, 0.3, 0.4, 0.5]\n",
        "\n",
        "# Store best hyperparameters.\n",
        "best_accuracy = 0\n",
        "best_LSTM_hyperparameters = {\"layers\": 0, \"dropout\": 0}\n",
        "\n",
        "for num_layers in all_num_layers:\n",
        "    # Initialize plot.\n",
        "    plt.figure(num_layers, figsize=[10,7.5])\n",
        "    plt.title(f\"LSTM Accuracy with {num_layers} layer(s)\")\n",
        "    plt.xlabel(\"epoch num\")\n",
        "    plt.ylabel(\"Accuracy\")\n",
        "\n",
        "    # Add dropout only if there's more than one layer.\n",
        "    dropouts = all_dropouts if num_layers > 1 else [0]\n",
        "\n",
        "    for drop in dropouts:\n",
        "        # Run LSTM with current hyperparameters.\n",
        "        print(\"Training with the following hyperparameters:\")\n",
        "        print(f\"  Layer(s):\\t{num_layers}\")\n",
        "        print(f\"  Dropout:\\t{drop}\")\n",
        "        stats = train_eval_LSTM(n_layers=num_layers, dropout=drop, \n",
        "                                num_epochs=N_EPOCHS)\n",
        "\n",
        "        # Plot stats for this run.\n",
        "        _, valid_stats, _ = stats\n",
        "        epochs = [i + 1 for i in range(len(valid_stats))]\n",
        "        plt.plot(epochs, valid_stats, label=f\"valid, dropout={drop}\")\n",
        "\n",
        "        # Save best hyperparameters.\n",
        "        if max(valid_stats) > best_accuracy:\n",
        "            best_accuracy = max(valid_stats)\n",
        "            best_LSTM_hyperparameters[\"layers\"] = num_layers\n",
        "            best_LSTM_hyperparameters[\"dropout\"] = drop\n",
        "    \n",
        "    plt.legend()\n",
        "    plt.savefig(f\"Accuracy_LSTM-{num_layers}layer(s)-15epochs.pdf\")\n",
        "    plt.show()\n",
        "\n",
        "print(\"BEST HYPERPARAMETERS\")\n",
        "for key, val in best_LSTM_hyperparameters.items():\n",
        "    print(f\"{key} = {val}\")\n",
        "print(f\"validation set accuracy = {best_accuracy}\")\n",
        "mins, secs = epoch_time(start_time, time.time())\n",
        "print(f\"Tuning Time: {mins}m {secs}s\")"
      ],
      "metadata": {
        "id": "onkemtxqTvwN"
      },
      "execution_count": null,
      "outputs": []
    },
    {
      "cell_type": "code",
      "source": [
        "# TUNE HYPERPARAMETERS FOR CNN\n",
        "\n",
        "N_EPOCHS = 15\n",
        "\n",
        "start_time = time.time()\n",
        "\n",
        "# Define hyperparameter ranges to test.\n",
        "all_filter_sizes = [[2,3,4], [3,4,5], [3,4,5,6], [2,3,4,5,6]]\n",
        "all_dropouts = [0, 0.1, 0.3, 0.5, 0.7, 0.9]\n",
        "\n",
        "# Store best hyperparameters.\n",
        "best_accuracy = 0\n",
        "best_CNN_hyperparameters = {\"filter sizes\": [0], \"dropout\": 0}\n",
        "\n",
        "for filters_list in all_filter_sizes:\n",
        "    # Initialize plot.\n",
        "    plt.figure(len(filters_list) + 10, figsize=[10,7.5])\n",
        "    plt.title(f\"CNN Accuracy with {filters_list}-size filters\")\n",
        "    plt.xlabel(\"epoch num\")\n",
        "    plt.ylabel(\"Accuracy\")\n",
        "\n",
        "    for drop in all_dropouts:\n",
        "        # Run CNN with current hyperparameters.\n",
        "        print(\"Training with the following hyperparameters:\")\n",
        "        print(f\"  Filter sizes:\\t{filters_list}\")\n",
        "        print(f\"  Dropout:\\t{drop}\")\n",
        "        stats = train_eval_CNN(filter_sizes=filters_list, dropout=drop, \n",
        "                               num_epochs=N_EPOCHS)\n",
        "\n",
        "        # Plot stats for this run.\n",
        "        _, valid_stats, _ = stats\n",
        "        epochs = [i + 1 for i in range(len(valid_stats))]\n",
        "        plt.plot(epochs, valid_stats, label=f\"valid, dropout={drop}\")\n",
        "\n",
        "        # Save best hyperparameters.\n",
        "        if max(valid_stats) > best_accuracy:\n",
        "            best_accuracy = max(valid_stats)\n",
        "            best_CNN_hyperparameters[\"filter sizes\"] = filters_list\n",
        "            best_CNN_hyperparameters[\"dropout\"] = drop\n",
        "    \n",
        "    plt.legend()\n",
        "    plt.savefig(f\"Accuracy_CNN-{filters_list}filter_sizes-15epochs.pdf\")\n",
        "    plt.show()\n",
        "\n",
        "print(\"BEST HYPERPARAMETERS\")\n",
        "for key, val in best_CNN_hyperparameters.items():\n",
        "    print(f\"{key} = {val}\")\n",
        "print(f\"validation set accuracy = {best_accuracy}\")\n",
        "mins, secs = epoch_time(start_time, time.time())\n",
        "print(f\"Tuning Time: {mins}m {secs}s\")"
      ],
      "metadata": {
        "id": "HfbGzUwIiDqz"
      },
      "execution_count": null,
      "outputs": []
    },
    {
      "cell_type": "code",
      "source": [
        "# TUNE HYPERPARAMETERS FOR CNN-LSTM\n",
        "\n",
        "N_EPOCHS = 15\n",
        "\n",
        "start_time = time.time()\n",
        "\n",
        "# Define hyperparameter ranges to test.\n",
        "all_layers = [2, 3]\n",
        "all_filter_sizes=[[2,3,4], [3,4,5]]\n",
        "all_dropouts = [0, 0.1, 0.3, 0.5, 0.7, 0.9]\n",
        "\n",
        "# Store best hyperparameters.\n",
        "best_accuracy = 0\n",
        "best_CNN_LSTM_hyperparameters = {\"layers\": 0, \"filter sizes\": [0], \"dropout\": 0}\n",
        "\n",
        "for num_layers in all_layers:\n",
        "    for filters_list in all_filter_sizes:\n",
        "        # Initialize plot.\n",
        "        plt.figure(len(filters_list) + 20, figsize=[10,7.5])\n",
        "        plt.title(f\"CNN-LSTM Accuracy with {filters_list}-size filters / {num_layers} layers\")\n",
        "        plt.xlabel(\"epoch num\")\n",
        "        plt.ylabel(\"Accuracy\")\n",
        "\n",
        "        for drop in all_dropouts:\n",
        "            # Run CNN with current hyperparameters.\n",
        "            print(\"Training with the following hyperparameters:\")\n",
        "            print(f\"  Layers:\\t{num_layers}\")\n",
        "            print(f\"  Filter sizes:\\t{filters_list}\")\n",
        "            print(f\"  Dropout:\\t{drop}\")\n",
        "            stats = train_eval_CNN_LSTM(n_layers=num_layers, dropout=drop,\n",
        "                                        filter_sizes=filters_list,\n",
        "                                        num_epochs=N_EPOCHS)\n",
        "\n",
        "            # Plot stats for this run.\n",
        "            _, valid_stats, _ = stats\n",
        "            epochs = [i + 1 for i in range(len(valid_stats))]\n",
        "            plt.plot(epochs, valid_stats, label=f\"valid, dropout={drop}\")\n",
        "\n",
        "            # Save best hyperparameters.\n",
        "            if max(valid_stats) > best_accuracy:\n",
        "                best_accuracy = max(valid_stats)\n",
        "                best_CNN_LSTM_hyperparameters[\"layers\"] = num_layers\n",
        "                best_CNN_LSTM_hyperparameters[\"filter sizes\"] = filters_list\n",
        "                best_CNN_LSTM_hyperparameters[\"dropout\"] = drop\n",
        "        \n",
        "        plt.legend()\n",
        "        plt.savefig(f\"Accuracy_CNN_LSTM-{filters_list}filter_sizes-{num_layers}layers-15epochs.pdf\")\n",
        "        plt.show()\n",
        "\n",
        "print(\"BEST HYPERPARAMETERS\")\n",
        "for key, val in best_CNN_LSTM_hyperparameters.items():\n",
        "    print(f\"{key} = {val}\")\n",
        "print(f\"validation set accuracy = {best_accuracy}\")\n",
        "mins, secs = epoch_time(start_time, time.time())\n",
        "print(f\"Tuning Time: {mins}m {secs}s\")"
      ],
      "metadata": {
        "id": "qv7NqL14ngU6"
      },
      "execution_count": null,
      "outputs": []
    },
    {
      "cell_type": "markdown",
      "source": [
        "# **Comparing Models**"
      ],
      "metadata": {
        "id": "MRmNEZoxFnIW"
      }
    },
    {
      "cell_type": "code",
      "source": [
        "# Normally, this should all run sequentially, but if we need to run\n",
        "# the tuning runs separatey, the best hyperparameters are hard-coded here.\n",
        "\n",
        "# # Best stats if models are run for 10 epochs:\n",
        "# best_LSTM_hyperparameters = {\"layers\": 2, \"dropout\": 0.3}\n",
        "# best_CNN_hyperparameters = {\"filter sizes\": [2,3,4], \"dropout\": 0.3}\n",
        "# best_CNN_LSTM_hyperparameters = {\"layers\": 3, \"dropout\": 0.3, \n",
        "#                                  \"filter sizes\": [2,3,4]}\n",
        "\n",
        "# # Best stats if models are run for 15 epochs:\n",
        "# best_LSTM_hyperparameters = {\"layers\": 4, \"dropout\": 0.5}\n",
        "# best_CNN_hyperparameters = {\"filter sizes\": [2,3,4], \"dropout\": 0.1}\n",
        "# best_CNN_LSTM_hyperparameters = {\"layers\": 3, \"dropout\": 0.3, \n",
        "#                                  \"filter sizes\": [2,3,4]}"
      ],
      "metadata": {
        "id": "9L4KYccrS7Mh"
      },
      "execution_count": null,
      "outputs": []
    },
    {
      "cell_type": "code",
      "source": [
        "param_dicts = [best_LSTM_hyperparameters, \n",
        "               best_CNN_hyperparameters, \n",
        "               best_CNN_LSTM_hyperparameters]\n",
        "\n",
        "for i, param_dict in enumerate(param_dicts):\n",
        "  print(f\"Model {i + 1}\")\n",
        "  for key, value in param_dict.items():\n",
        "    print(key, value)\n",
        "  print()"
      ],
      "metadata": {
        "id": "qJcZ5Z6QcRei"
      },
      "execution_count": null,
      "outputs": []
    },
    {
      "cell_type": "code",
      "source": [
        "print(\"Training LSTM for evaluation...\")\n",
        "NUM_EPOCHS = 20\n",
        "\n",
        "# Train and evaluate optimal LSTM model.\n",
        "st = time.time()\n",
        "lstm_layers = best_LSTM_hyperparameters[\"layers\"]\n",
        "lstm_dropout = best_LSTM_hyperparameters[\"dropout\"]\n",
        "lstm_train_acc, lstm_valid_acc, lstm_test_acc = train_eval_LSTM(n_layers=lstm_layers, \n",
        "                                       dropout=lstm_dropout, \n",
        "                                       num_epochs=NUM_EPOCHS)\n",
        "lstm_duration = time.time() - st"
      ],
      "metadata": {
        "id": "o46CPH_gFrHY"
      },
      "execution_count": null,
      "outputs": []
    },
    {
      "cell_type": "code",
      "source": [
        "# Train and evaluate optimal CNN model.\n",
        "print(\"Training CNN for evaluation...\")\n",
        "st = time.time()\n",
        "cnn_filter_sizes = best_CNN_hyperparameters[\"filter sizes\"]\n",
        "cnn_dropout = best_CNN_hyperparameters[\"dropout\"]\n",
        "cnn_train_acc, cnn_valid_acc, cnn_test_acc = train_eval_CNN(\n",
        "    filter_sizes=cnn_filter_sizes, dropout=cnn_dropout, num_epochs=NUM_EPOCHS)\n",
        "cnn_duration = time.time() - st"
      ],
      "metadata": {
        "id": "nH_rHj4PNTX8"
      },
      "execution_count": null,
      "outputs": []
    },
    {
      "cell_type": "code",
      "source": [
        "# Train and evaluate optimal CNN-LSTM model.\n",
        "print(\"Training CNN-LSTM for evaluation...\")\n",
        "st = time.time()\n",
        "cnn_lstm_layers = best_CNN_LSTM_hyperparameters[\"layers\"]\n",
        "cnn_lstm_filter_sizes = best_CNN_LSTM_hyperparameters[\"filter sizes\"]\n",
        "cnn_lstm_dropout = best_CNN_LSTM_hyperparameters[\"dropout\"]\n",
        "cnn_lstm_train_acc, cnn_lstm_valid_acc, cnn_lstm_test_acc = train_eval_CNN_LSTM(\n",
        "    n_layers=cnn_lstm_layers, dropout=cnn_lstm_dropout, \n",
        "    filter_sizes=cnn_lstm_filter_sizes, num_epochs=NUM_EPOCHS)\n",
        "cnn_lstm_duration = time.time() - st"
      ],
      "metadata": {
        "id": "4NQwTRzsNWsm"
      },
      "execution_count": null,
      "outputs": []
    },
    {
      "cell_type": "code",
      "source": [
        "print(\"Time elapsed training each model:\")\n",
        "print(f\"LSTM\\t\\t= {lstm_duration:.2}s\")\n",
        "print(f\"CNN\\t\\t= {cnn_duration:.2}s\")\n",
        "print(f\"CNN-LSTM\\t= {cnn_lstm_duration:.2}s\")"
      ],
      "metadata": {
        "id": "sSEDOhvEb8tw"
      },
      "execution_count": null,
      "outputs": []
    },
    {
      "cell_type": "code",
      "source": [
        "# Plot running time comparison.\n",
        "labels = ['LSTM', 'CNN', 'CNN LSTM']\n",
        "time_per_epoch = [lstm_duration / NUM_EPOCHS, \n",
        "                  cnn_duration / NUM_EPOCHS, \n",
        "                  cnn_lstm_duration / NUM_EPOCHS]\n",
        "total_time = [lstm_duration, cnn_duration, cnn_lstm_duration]\n",
        "\n",
        "x = np.arange(len(labels))\n",
        "width = 0.35\n",
        "\n",
        "fig, ax = plt.subplots(figsize=[10,7.5])\n",
        "ax.set_title('Running Time per Model')\n",
        "ax.set_xticks(x, labels)\n",
        "ax.set_ylabel('Seconds')\n",
        "\n",
        "rects1 = ax.bar(x - width/2, time_per_epoch, width, label='Avg. Epoch Time')\n",
        "rects2 = ax.bar(x + width/2, total_time, width, label='Total Time')\n",
        "\n",
        "ax.bar_label(rects1, padding=3)\n",
        "ax.bar_label(rects2, padding=3)\n",
        "\n",
        "ax.legend()\n",
        "fig.tight_layout()\n",
        "plt.savefig(\"Model Comparison - Running Time.pdf\")\n",
        "plt.show()"
      ],
      "metadata": {
        "colab": {
          "base_uri": "https://localhost:8080/",
          "height": 549
        },
        "id": "hBOimiDiGr8e",
        "outputId": "07b89886-95a9-4050-fb78-6e55581cad02"
      },
      "execution_count": null,
      "outputs": [
        {
          "output_type": "display_data",
          "data": {
            "image/png": "[encoded data removed]",
            "text/plain": [
              "<Figure size 720x540 with 1 Axes>"
            ]
          },
          "metadata": {
            "needs_background": "light"
          }
        }
      ]
    },
    {
      "cell_type": "code",
      "source": [
        "epochs = [i + 1 for i in range(NUM_EPOCHS)]\n",
        "\n",
        "# Plot accuracy comparison.\n",
        "plt.figure(101, figsize=[10,7.5])\n",
        "plt.title(\"Accuracy per Model\")\n",
        "plt.xlabel(\"epoch num\")\n",
        "plt.ylabel(\"Accuracy\")\n",
        "\n",
        "# plt.plot(epochs, lstm_train_acc, label=\"LSTM-training\")\n",
        "# plt.plot(epochs, cnn_train_acc, label=\"CNN-training\")\n",
        "# plt.plot(epochs, cnn_lstm_train_acc, label=\"CNN-LSTM-training\")\n",
        "\n",
        "plt.plot(epochs, lstm_valid_acc, label=\"LSTM-validation\")\n",
        "plt.plot(epochs, cnn_valid_acc, label=\"CNN-validation\")\n",
        "plt.plot(epochs, cnn_lstm_valid_acc, label=\"CNN-LSTM-validation\")\n",
        "\n",
        "plt.legend()\n",
        "plt.savefig(\"Model Comparison - Accuracy.pdf\")\n",
        "plt.show()"
      ],
      "metadata": {
        "colab": {
          "base_uri": "https://localhost:8080/",
          "height": 486
        },
        "id": "NWJQ1EsBGsmx",
        "outputId": "d0538e6e-dda8-4f02-e8e6-d6296f898417"
      },
      "execution_count": null,
      "outputs": [
        {
          "output_type": "display_data",
          "data": {
            "image/png": "[encoded data removed]",
            "text/plain": [
              "<Figure size 720x540 with 1 Axes>"
            ]
          },
          "metadata": {
            "needs_background": "light"
          }
        }
      ]
    },
    {
      "cell_type": "code",
      "source": [
        "# Plot accuracy over time comparisons.\n",
        "fig, ax = plt.subplots(figsize=[10,7.5])\n",
        "plt.title(\"Accuracy Over Time per Model\")\n",
        "plt.xlabel('time (seconds)')\n",
        "plt.ylabel('Accuracy')\n",
        "\n",
        "lstm_times = [time_per_epoch[0] for _ in range(len(lstm_valid_acc))]\n",
        "cnn_times = [time_per_epoch[1] for _ in range(len(cnn_valid_acc))]\n",
        "cnn_lstm_times = [time_per_epoch[2] for _ in range(len(cnn_lstm_valid_acc))]\n",
        "\n",
        "ax.plot(np.cumsum(lstm_times), lstm_valid_acc, label=\"LSTM\")\n",
        "ax.plot(np.cumsum(cnn_times), cnn_valid_acc, label=\"CNN\")\n",
        "ax.plot(np.cumsum(cnn_lstm_times), cnn_lstm_valid_acc, label=\"CNN-LSTM\")\n",
        "\n",
        "legend = ax.legend()\n",
        "plt.savefig(\"Model Comparisons - Accuracy Over Time.pdf\")\n",
        "plt.show()"
      ],
      "metadata": {
        "colab": {
          "base_uri": "https://localhost:8080/",
          "height": 486
        },
        "id": "CxuOwnwEV3Iv",
        "outputId": "f9ab419c-aa57-4ebd-ad69-5c5d40a77cd1"
      },
      "execution_count": null,
      "outputs": [
        {
          "output_type": "display_data",
          "data": {
            "image/png": "[encoded data removed]",
            "text/plain": [
              "<Figure size 720x540 with 1 Axes>"
            ]
          },
          "metadata": {
            "needs_background": "light"
          }
        }
      ]
    },
    {
      "cell_type": "code",
      "source": [
        "print(\"Accuracy on the test set for each model:\")\n",
        "print(f\"LSTM\\t\\t= {lstm_test_acc:.2%}\")\n",
        "print(f\"CNN\\t\\t= {cnn_test_acc:.2%}\")\n",
        "print(f\"CNN-LSTM\\t= {cnn_lstm_test_acc:.2%}\")"
      ],
      "metadata": {
        "colab": {
          "base_uri": "https://localhost:8080/"
        },
        "id": "qB2NA7U8kVvQ",
        "outputId": "1edf0a2c-80b8-4810-85f4-9ae1baff4c1b"
      },
      "execution_count": null,
      "outputs": [
        {
          "output_type": "stream",
          "name": "stdout",
          "text": [
            "Accuracy on the test set for each model:\n",
            "LSTM\t\t= 88.35%\n",
            "CNN\t\t= 88.11%\n",
            "CNN-LSTM\t= 88.27%\n"
          ]
        }
      ]
    },
    {
      "cell_type": "code",
      "source": [
        "print(\"Accuracy on the training set for each model:\")\n",
        "print(f\"LSTM\\t\\t= {max(lstm_train_acc):.2%}\")\n",
        "print(f\"CNN\\t\\t= {max(cnn_train_acc):.2%}\")\n",
        "print(f\"CNN-LSTM\\t= {max(cnn_lstm_train_acc):.2%}\")"
      ],
      "metadata": {
        "colab": {
          "base_uri": "https://localhost:8080/"
        },
        "id": "IQgZVpbOH690",
        "outputId": "d07ef3c5-a6b5-4937-f224-d09a12f7256f"
      },
      "execution_count": null,
      "outputs": [
        {
          "output_type": "stream",
          "name": "stdout",
          "text": [
            "Accuracy on the training set for each model:\n",
            "LSTM\t\t= 94.41%\n",
            "CNN\t\t= 99.58%\n",
            "CNN-LSTM\t= 99.14%\n"
          ]
        }
      ]
    },
    {
      "cell_type": "code",
      "source": [
        "print(\"Accuracy on the validation set for each model:\")\n",
        "print(f\"LSTM\\t\\t= {max(lstm_valid_acc):.2%}\")\n",
        "print(f\"CNN\\t\\t= {max(cnn_valid_acc):.2%}\")\n",
        "print(f\"CNN-LSTM\\t= {max(cnn_lstm_valid_acc):.2%}\")"
      ],
      "metadata": {
        "colab": {
          "base_uri": "https://localhost:8080/"
        },
        "id": "WOw2XDOWISNn",
        "outputId": "7efad706-0b51-43fc-f8b7-f6ba1521fa89"
      },
      "execution_count": null,
      "outputs": [
        {
          "output_type": "stream",
          "name": "stdout",
          "text": [
            "Accuracy on the validation set for each model:\n",
            "LSTM\t\t= 89.11%\n",
            "CNN\t\t= 89.19%\n",
            "CNN-LSTM\t= 88.44%\n"
          ]
        }
      ]
    },
    {
      "cell_type": "markdown",
      "source": [
        "# **Reference**\n",
        "\n",
        "Source Code on which this work was based:\n",
        "https://github.com/bentrevett/pytorch-sentiment-analysis"
      ],
      "metadata": {
        "id": "REYQIYDBLZsn"
      }
    }
  ]
}